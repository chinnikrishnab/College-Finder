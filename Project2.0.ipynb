{
 "cells": [
  {
   "cell_type": "code",
   "execution_count": 1,
   "metadata": {},
   "outputs": [
    {
     "name": "stdout",
     "output_type": "stream",
     "text": [
      "********************\n",
      "Let's Play Rock Paper and Scissor\n",
      "********************\n",
      "choose between r/p/s [Rock , Paper or Scissors]\n",
      "r\n",
      "choose between r/p/s [Rock , Paper or Scissors]\n",
      "c\n",
      "choose correct option\n"
     ]
    }
   ],
   "source": [
    "print(\"*\"*20)\n",
    "print(\"Let's Play Rock Paper and Scissor\")\n",
    "print(\"*\"*20)\n",
    "\n",
    "\n",
    "player1 = str(input(\"choose between r/p/s [Rock , Paper or Scissors]\\n\"))\n",
    "player2 = str(input(\"choose between r/p/s [Rock , Paper or Scissors]\\n\"))\n",
    "\n",
    "\n",
    "## logic using conditional to check rock\n",
    "if (player1 == \"r\") and (player2 == \"r\"):\n",
    "    print(\"player1 chosse {option} and player2 choose {option2}\".format(option=player1,option2=player2))\n",
    "    print(\"That's a tie\")\n",
    "elif (player1 == \"r\") and (player2 == \"p\"):\n",
    "    print(\"player1 chosse {option} and player2 choose {option2}\".format(option=player1,option2=player2))\n",
    "    print(\"Player2 has won the game\")\n",
    "elif (player1 == \"r\") and (player2 == \"s\"):\n",
    "    print(\"player1 chosse {option} and player2 choose {option2}\".format(option=player1,option2=player2))\n",
    "    print(\"Player1 has won the game\")\n",
    "    \n",
    "    \n",
    "## logic for paper\n",
    "\n",
    "elif (player1 == \"p\") and (player2 == \"r\"):\n",
    "    print(\"player1 chosse {option} and player2 choose {option2}\".format(option=player1,option2=player2))\n",
    "    print(\"Player1 has won the game\")\n",
    "elif (player1 == \"p\") and (player2 == \"p\"):\n",
    "    print(\"player1 chosse {option} and player2 choose {option2}\".format(option=player1,option2=player2))\n",
    "    print(\"That's a tie\")\n",
    "elif (player1 == \"p\") and (player2 == \"s\"):\n",
    "    print(\"player1 chosse {option} and player2 choose {option2}\".format(option=player1,option2=player2))\n",
    "    print(\"Player2 has won the game\")\n",
    "    \n",
    "    \n",
    "# Logic for Scissor\n",
    "elif (player1 == \"s\") and (player2 == \"r\"):\n",
    "    print(\"player1 chosse {option} and player2 choose {option2}\".format(option=player1,option2=player2))\n",
    "    print(\"Player1 has won the game\")\n",
    "elif (player1 == \"s\") and (player2 == \"p\"):\n",
    "    print(\"player1 chosse {option} and player2 choose {option2}\".format(option=player1,option2=player2))\n",
    "    print(\"Player1 has won the game\")\n",
    "elif (player1 == \"s\") and (player2 == \"s\"):\n",
    "    print(\"player1 chosse {option} and player2 choose {option2}\".format(option=player1,option2=player2))\n",
    "    print(\"That's a tie\")\n",
    "    \n",
    "# Logic for error\n",
    "\n",
    "else:\n",
    "    print(\"choose correct option\")"
   ]
  },
  {
   "cell_type": "code",
   "execution_count": null,
   "metadata": {},
   "outputs": [],
   "source": []
  }
 ],
 "metadata": {
  "kernelspec": {
   "display_name": "Python 3",
   "language": "python",
   "name": "python3"
  },
  "language_info": {
   "codemirror_mode": {
    "name": "ipython",
    "version": 3
   },
   "file_extension": ".py",
   "mimetype": "text/x-python",
   "name": "python",
   "nbconvert_exporter": "python",
   "pygments_lexer": "ipython3",
   "version": "3.7.6"
  }
 },
 "nbformat": 4,
 "nbformat_minor": 4
}
