{
 "cells": [
  {
   "cell_type": "markdown",
   "metadata": {},
   "source": [
    "# Project 1.0"
   ]
  },
  {
   "cell_type": "code",
   "execution_count": 10,
   "metadata": {},
   "outputs": [
    {
     "name": "stdout",
     "output_type": "stream",
     "text": [
      "WELCOME To\n",
      "Enter your instute :The College Finder\n",
      "Enter your firstName :chinni\n",
      "Enter your batch :first batch\n",
      "Enter your Section :c\n",
      "Enter Your RollNumber :19\n"
     ]
    }
   ],
   "source": [
    "print(\"WELCOME To\")\n",
    "Instute = str(input(\"Enter your instute :\"))\n",
    "name = str(input(\"Enter your firstName :\"))\n",
    "batch = str(input(\"Enter your batch :\"))\n",
    "section = str(input(\"Enter your Section :\"))\n",
    "rollnumber =int(input(\"Enter Your RollNumber :\"))"
   ]
  },
  {
   "cell_type": "code",
   "execution_count": 11,
   "metadata": {},
   "outputs": [
    {
     "name": "stdout",
     "output_type": "stream",
     "text": [
      "3 SUBJECTS\n",
      "***********************************\n"
     ]
    }
   ],
   "source": [
    "print(\"3 SUBJECTS\")\n",
    "print(\"*\"*35)"
   ]
  },
  {
   "cell_type": "code",
   "execution_count": 12,
   "metadata": {},
   "outputs": [
    {
     "name": "stdout",
     "output_type": "stream",
     "text": [
      "Enter first Subject :telugu\n",
      "Enter second Subject :hind\n",
      "Enter third Subject3 :english\n",
      "Enter first Subject Score :96\n",
      "Enter second Subject Score :94\n",
      "Enter thiord Subject Score :95\n"
     ]
    }
   ],
   "source": [
    "subject1 = str(input(\"Enter first Subject :\"))\n",
    "subject2 = str(input(\"Enter second Subject :\"))\n",
    "subject3 = str(input(\"Enter third Subject3 :\"))\n",
    "subject1score = int(input(\"Enter first Subject Score :\"))\n",
    "subject2score = int(input(\"Enter second Subject Score :\"))\n",
    "subject3score = int(input(\"Enter thiord Subject Score :\"))"
   ]
  },
  {
   "cell_type": "code",
   "execution_count": 13,
   "metadata": {},
   "outputs": [
    {
     "name": "stdout",
     "output_type": "stream",
     "text": [
      "285\n"
     ]
    }
   ],
   "source": [
    "# marks Total\n",
    "totalMarks = subject1score + subject2score + subject3score\n",
    "print(totalMarks)"
   ]
  },
  {
   "cell_type": "code",
   "execution_count": 14,
   "metadata": {},
   "outputs": [
    {
     "name": "stdout",
     "output_type": "stream",
     "text": [
      "95.0\n"
     ]
    }
   ],
   "source": [
    "#Percentage for three subjects \n",
    "percentage = totalMarks / 3\n",
    "print(percentage)"
   ]
  },
  {
   "cell_type": "code",
   "execution_count": 16,
   "metadata": {},
   "outputs": [
    {
     "name": "stdout",
     "output_type": "stream",
     "text": [
      "successfully completed first project in python i.e Project1.0\n"
     ]
    }
   ],
   "source": [
    "c = \"successfully completed first project in python i.e Project1.0\"\n",
    "print(c)"
   ]
  }
 ],
 "metadata": {
  "kernelspec": {
   "display_name": "Python 3",
   "language": "python",
   "name": "python3"
  },
  "language_info": {
   "codemirror_mode": {
    "name": "ipython",
    "version": 3
   },
   "file_extension": ".py",
   "mimetype": "text/x-python",
   "name": "python",
   "nbconvert_exporter": "python",
   "pygments_lexer": "ipython3",
   "version": "3.7.6"
  }
 },
 "nbformat": 4,
 "nbformat_minor": 4
}
